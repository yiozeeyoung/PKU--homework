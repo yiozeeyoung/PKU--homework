{
 "cells": [],
 "metadata": {
  "kernelspec": {
   "display_name": "sum",
   "language": "python",
   "name": "python3"
  },
  "language_info": {
   "name": "python",
   "version": "3.12.0"
  }
 },
 "nbformat": 4,
 "nbformat_minor": 5
}
